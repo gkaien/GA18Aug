{
 "cells": [
  {
   "cell_type": "markdown",
   "metadata": {},
   "source": [
    "<img src=\"http://imgur.com/1ZcRyrc.png\" style=\"float: left; margin: 20px; height: 55px\">\n",
    "\n",
    "# Project 2: Analyzing Chipotle Data\n",
    "\n",
    "_Author: Joseph Nelson (DC)_\n",
    "\n",
    "---"
   ]
  },
  {
   "cell_type": "markdown",
   "metadata": {},
   "source": [
    "For Project 2, you will complete a series of exercises exploring [order data from Chipotle](https://github.com/TheUpshot/chipotle), compliments of _The New York Times'_ \"The Upshot.\"\n",
    "\n",
    "For these exercises, you will conduct basic exploratory data analysis (Pandas not required) to understand the essentials of Chipotle's order data: how many orders are being made, the average price per order, how many different ingredients are used, etc. These allow you to practice business analysis skills while also becoming comfortable with Python."
   ]
  },
  {
   "cell_type": "markdown",
   "metadata": {},
   "source": [
    "---\n",
    "\n",
    "## Basic Level"
   ]
  },
  {
   "cell_type": "markdown",
   "metadata": {},
   "source": [
    "### Part 1: Read in the file with `csv.reader()` and store it in an object called `file_nested_list`.\n",
    "\n",
    "Hint: This is a TSV (tab-separated value) file, and `csv.reader()` needs to be told [how to handle it](https://docs.python.org/2/library/csv.html)."
   ]
  },
  {
   "cell_type": "code",
   "execution_count": 6,
   "metadata": {},
   "outputs": [],
   "source": [
    "import csv\n",
    "from collections import namedtuple   # Convenient to store the data rows\n",
    "\n",
    "DATA_FILE = '/Users/kaiengwee/Documents/GitHub/GA18Aug/Project2/GA_Project2/chipotle.tsv'"
   ]
  },
  {
   "cell_type": "code",
   "execution_count": 7,
   "metadata": {},
   "outputs": [],
   "source": [
    "file_nested_file=[]\n",
    "\n",
    "with open(DATA_FILE) as f:\n",
    "    file_nested_list= [row for row in csv.reader(f, delimiter='\\t')]\n",
    "    "
   ]
  },
  {
   "cell_type": "markdown",
   "metadata": {},
   "source": [
    "### Part 2: Separate `file_nested_list` into the `header` and the `data`.\n"
   ]
  },
  {
   "cell_type": "code",
   "execution_count": 8,
   "metadata": {},
   "outputs": [],
   "source": [
    "header= file_nested_list[0]\n",
    "data= file_nested_list[1:]"
   ]
  },
  {
   "cell_type": "code",
   "execution_count": 19,
   "metadata": {},
   "outputs": [
    {
     "data": {
      "text/plain": [
       "['order_id', 'quantity', 'item_name', 'choice_description', 'item_price']"
      ]
     },
     "execution_count": 19,
     "metadata": {},
     "output_type": "execute_result"
    }
   ],
   "source": [
    "header\n"
   ]
  },
  {
   "cell_type": "code",
   "execution_count": 24,
   "metadata": {},
   "outputs": [
    {
     "data": {
      "text/plain": [
       "[['1', '1', 'Chips and Fresh Tomato Salsa', 'NULL', '$2.39 '],\n",
       " ['1', '1', 'Izze', '[Clementine]', '$3.39 '],\n",
       " ['1', '1', 'Nantucket Nectar', '[Apple]', '$3.39 '],\n",
       " ['1', '1', 'Chips and Tomatillo-Green Chili Salsa', 'NULL', '$2.39 '],\n",
       " ['2',\n",
       "  '2',\n",
       "  'Chicken Bowl',\n",
       "  '[Tomatillo-Red Chili Salsa (Hot), [Black Beans, Rice, Cheese, Sour Cream]]',\n",
       "  '$16.98 '],\n",
       " ['3',\n",
       "  '1',\n",
       "  'Chicken Bowl',\n",
       "  '[Fresh Tomato Salsa (Mild), [Rice, Cheese, Sour Cream, Guacamole, Lettuce]]',\n",
       "  '$10.98 '],\n",
       " ['3', '1', 'Side of Chips', 'NULL', '$1.69 '],\n",
       " ['4',\n",
       "  '1',\n",
       "  'Steak Burrito',\n",
       "  '[Tomatillo Red Chili Salsa, [Fajita Vegetables, Black Beans, Pinto Beans, Cheese, Sour Cream, Guacamole, Lettuce]]',\n",
       "  '$11.75 '],\n",
       " ['4',\n",
       "  '1',\n",
       "  'Steak Soft Tacos',\n",
       "  '[Tomatillo Green Chili Salsa, [Pinto Beans, Cheese, Sour Cream, Lettuce]]',\n",
       "  '$9.25 '],\n",
       " ['5',\n",
       "  '1',\n",
       "  'Steak Burrito',\n",
       "  '[Fresh Tomato Salsa, [Rice, Black Beans, Pinto Beans, Cheese, Sour Cream, Lettuce]]',\n",
       "  '$9.25 ']]"
      ]
     },
     "execution_count": 24,
     "metadata": {},
     "output_type": "execute_result"
    }
   ],
   "source": [
    "data[0:10]"
   ]
  },
  {
   "cell_type": "markdown",
   "metadata": {},
   "source": [
    "---\n",
    "\n",
    "## Intermediate Level"
   ]
  },
  {
   "cell_type": "markdown",
   "metadata": {},
   "source": [
    "### Part 3: Calculate the average price of an order.\n",
    "\n",
    "Hint: Examine the data to see if the `quantity` column is relevant to this calculation.\n",
    "\n",
    "Hint: Think carefully about the simplest way to do this!"
   ]
  },
  {
   "cell_type": "code",
   "execution_count": 16,
   "metadata": {},
   "outputs": [
    {
     "name": "stdout",
     "output_type": "stream",
     "text": [
      "The total number of orders is 1834\n"
     ]
    }
   ],
   "source": [
    "num_orders= 0\n",
    "\n",
    "for i in data:\n",
    "    if int(i[0])> num_orders:\n",
    "        num_orders= int(i[0])\n",
    "        \n",
    "print(\"The total number of orders is\", num_orders)"
   ]
  },
  {
   "cell_type": "code",
   "execution_count": 33,
   "metadata": {},
   "outputs": [
    {
     "name": "stdout",
     "output_type": "stream",
     "text": [
      "The sum of all order prices is $ 34500.16\n"
     ]
    }
   ],
   "source": [
    "total_prices= 0\n",
    "\n",
    "for i in data:\n",
    "    total_prices= total_prices + float(i[4].replace('$',''))\n",
    "\n",
    "print(\"The sum of all order prices is $\", round(total_prices,2))"
   ]
  },
  {
   "cell_type": "code",
   "execution_count": 34,
   "metadata": {},
   "outputs": [
    {
     "name": "stdout",
     "output_type": "stream",
     "text": [
      "The average price of an order is $ 18.81\n"
     ]
    }
   ],
   "source": [
    "avg_order_price= total_prices/num_orders\n",
    "\n",
    "print('The average price of an order is $', round(avg_order_price,2))"
   ]
  },
  {
   "cell_type": "markdown",
   "metadata": {},
   "source": [
    "### Part 4: Create a list (or set) named `unique_sodas` containing all of unique sodas and soft drinks that Chipotle sells.\n",
    "\n",
    "Note: Just look for `'Canned Soda'` and `'Canned Soft Drink'`, and ignore other drinks like `'Izze'`."
   ]
  },
  {
   "cell_type": "code",
   "execution_count": 40,
   "metadata": {},
   "outputs": [
    {
     "name": "stdout",
     "output_type": "stream",
     "text": [
      "{'[Nestea]', '[Diet Dr. Pepper]', '[Lemonade]', '[Dr. Pepper]', '[Sprite]', '[Coke]', '[Coca Cola]', '[Diet Coke]', '[Mountain Dew]'}\n"
     ]
    }
   ],
   "source": [
    "unique_sodas= []\n",
    "\n",
    "for i in data:\n",
    "    if 'Canned Soda' in i[2] or 'Canned Soft Drink' in i[2]:\n",
    "        unique_sodas.append(i[3])\n",
    "        \n",
    "unique_sodas= set(unique_sodas)\n",
    "        \n",
    "print(unique_sodas)"
   ]
  },
  {
   "cell_type": "code",
   "execution_count": null,
   "metadata": {
    "collapsed": true
   },
   "outputs": [],
   "source": []
  },
  {
   "cell_type": "code",
   "execution_count": null,
   "metadata": {
    "collapsed": true
   },
   "outputs": [],
   "source": []
  },
  {
   "cell_type": "code",
   "execution_count": null,
   "metadata": {
    "collapsed": true
   },
   "outputs": [],
   "source": []
  },
  {
   "cell_type": "markdown",
   "metadata": {},
   "source": [
    "---\n",
    "\n",
    "## Advanced Level\n"
   ]
  },
  {
   "cell_type": "markdown",
   "metadata": {},
   "source": [
    "### Part 5: Calculate the average number of toppings per burrito.\n",
    "\n",
    "Note: Let's ignore the `quantity` column to simplify this task.\n",
    "\n",
    "Hint: Think carefully about the easiest way to count the number of toppings!\n"
   ]
  },
  {
   "cell_type": "code",
   "execution_count": 44,
   "metadata": {},
   "outputs": [
    {
     "name": "stdout",
     "output_type": "stream",
     "text": [
      "The average number of toppings per burrito is 5.395051194539249\n"
     ]
    }
   ],
   "source": [
    "burrito_count= 0\n",
    "topping_count= 0\n",
    "\n",
    "for i in data:\n",
    "    if 'Burrito' in i[2]:\n",
    "        burrito_count= burrito_count + 1\n",
    "        \n",
    "for i in data:\n",
    "    if 'Burrito' in i[2]:\n",
    "        topping_count= topping_count + i[3].count(',') + 1\n",
    "        \n",
    "avg_burrito_topping= topping_count / burrito_count\n",
    "print('The average number of toppings per burrito is', avg_burrito_topping)"
   ]
  },
  {
   "cell_type": "code",
   "execution_count": 45,
   "metadata": {},
   "outputs": [
    {
     "name": "stdout",
     "output_type": "stream",
     "text": [
      "The average number of toppings per burrito is 5.326563769293258\n"
     ]
    }
   ],
   "source": [
    "burrito_count= 0\n",
    "topping_count= 0\n",
    "\n",
    "for i in data:\n",
    "    if 'Burrito' in i[2]:\n",
    "        burrito_count += int(i[1])\n",
    "        \n",
    "for i in data:\n",
    "    if 'Burrito' in i[2]:\n",
    "        topping_count += int(i[1]) * i[3].count(',') + 1\n",
    "        \n",
    "avg_burrito_topping = topping_count / burrito_count\n",
    "print('The average number of toppings per burrito is', avg_burrito_topping)"
   ]
  },
  {
   "cell_type": "code",
   "execution_count": null,
   "metadata": {
    "collapsed": true
   },
   "outputs": [],
   "source": []
  },
  {
   "cell_type": "code",
   "execution_count": null,
   "metadata": {
    "collapsed": true
   },
   "outputs": [],
   "source": []
  },
  {
   "cell_type": "markdown",
   "metadata": {},
   "source": [
    "### Part 6: Create a dictionary. Let the keys represent chip orders and the values represent the total number of orders.\n",
    "\n",
    "Expected output: `{'Chips and Roasted Chili-Corn Salsa': 18, ... }`\n",
    "\n",
    "Note: Please take the `quantity` column into account!\n",
    "\n",
    "Optional: Learn how to use `.defaultdict()` to simplify your code."
   ]
  },
  {
   "cell_type": "code",
   "execution_count": 51,
   "metadata": {},
   "outputs": [
    {
     "name": "stdout",
     "output_type": "stream",
     "text": [
      "['Chips and Tomatillo Red Chili Salsa', 'Chips and Roasted Chili-Corn Salsa', 'Chips and Guacamole', 'Chips and Roasted Chili Corn Salsa', 'Chips and Tomatillo-Red Chili Salsa', 'Chips and Tomatillo Green Chili Salsa', 'Side of Chips', 'Chips and Tomatillo-Green Chili Salsa', 'Chips and Mild Fresh Tomato Salsa', 'Chips and Fresh Tomato Salsa', 'Chips']\n",
      "11\n"
     ]
    }
   ],
   "source": [
    "chip_orders = []\n",
    "\n",
    "for i in data:\n",
    "    if 'Chip' in i[2]:\n",
    "        chip_orders.append(i[2])\n",
    "        \n",
    "chip_orders= list(set(chip_orders))\n",
    "print(chip_orders)\n",
    "print(len(chip_orders))"
   ]
  },
  {
   "cell_type": "code",
   "execution_count": 55,
   "metadata": {},
   "outputs": [
    {
     "name": "stdout",
     "output_type": "stream",
     "text": [
      "[50, 18, 506, 23, 25, 45, 110, 33, 1, 130, 230]\n",
      "11\n"
     ]
    }
   ],
   "source": [
    "chip_count_list= []\n",
    "\n",
    "for i in chip_orders:\n",
    "    chip_count= 0\n",
    "    for k in data:\n",
    "        if k[2] == i:\n",
    "            chip_count += int(k[1])\n",
    "    chip_count_list.append(chip_count)\n",
    "    \n",
    "print(chip_count_list)\n",
    "print(len(chip_count_list))"
   ]
  },
  {
   "cell_type": "code",
   "execution_count": 60,
   "metadata": {},
   "outputs": [
    {
     "data": {
      "text/plain": [
       "{'Chips and Tomatillo Red Chili Salsa': 50,\n",
       " 'Chips and Roasted Chili-Corn Salsa': 18,\n",
       " 'Chips and Guacamole': 506,\n",
       " 'Chips and Roasted Chili Corn Salsa': 23,\n",
       " 'Chips and Tomatillo-Red Chili Salsa': 25,\n",
       " 'Chips and Tomatillo Green Chili Salsa': 45,\n",
       " 'Side of Chips': 110,\n",
       " 'Chips and Tomatillo-Green Chili Salsa': 33,\n",
       " 'Chips and Mild Fresh Tomato Salsa': 1,\n",
       " 'Chips and Fresh Tomato Salsa': 130,\n",
       " 'Chips': 230}"
      ]
     },
     "execution_count": 60,
     "metadata": {},
     "output_type": "execute_result"
    }
   ],
   "source": [
    "chip_dict= dict(zip(chip_orders, chip_count_list))\n",
    "chip_dict"
   ]
  },
  {
   "cell_type": "code",
   "execution_count": 59,
   "metadata": {},
   "outputs": [
    {
     "data": {
      "text/plain": [
       "110"
      ]
     },
     "execution_count": 59,
     "metadata": {},
     "output_type": "execute_result"
    }
   ],
   "source": [
    "chip_dict['Side of Chips']"
   ]
  },
  {
   "cell_type": "code",
   "execution_count": null,
   "metadata": {
    "collapsed": true
   },
   "outputs": [],
   "source": []
  },
  {
   "cell_type": "markdown",
   "metadata": {},
   "source": [
    "---\n",
    "\n",
    "## Bonus: Craft a problem statement about this data that interests you, and then answer it!\n"
   ]
  },
  {
   "cell_type": "code",
   "execution_count": 61,
   "metadata": {},
   "outputs": [
    {
     "name": "stdout",
     "output_type": "stream",
     "text": [
      "50\n"
     ]
    }
   ],
   "source": [
    "all_orders= []\n",
    "\n",
    "for i in data:\n",
    "    all_orders.append(i[2])\n",
    "\n",
    "all_orders= list(set(all_orders))\n",
    "\n",
    "print(len(all_orders))"
   ]
  },
  {
   "cell_type": "code",
   "execution_count": 63,
   "metadata": {},
   "outputs": [
    {
     "name": "stdout",
     "output_type": "stream",
     "text": [
      "50\n"
     ]
    }
   ],
   "source": [
    "order_rev_list= []\n",
    "\n",
    "for i in all_orders:\n",
    "    order_rev = 0\n",
    "    for k in data:\n",
    "        if k[2] == i:\n",
    "            order_rev += int(k[1]) * float(k[4].replace('$',''))\n",
    "    order_rev_list.append(order_rev)\n",
    "    \n",
    "print(len(order_rev_list))"
   ]
  },
  {
   "cell_type": "code",
   "execution_count": 70,
   "metadata": {},
   "outputs": [
    {
     "name": "stdout",
     "output_type": "stream",
     "text": [
      "Item which generated the highest revenue is 6 Pack Soft Drink with a total value of $ 8044.63\n"
     ]
    }
   ],
   "source": [
    "rel_pos= 0\n",
    "\n",
    "for i in range(0,len(order_rev_list)):\n",
    "    if order_rev_list[i] == max(order_rev_list):\n",
    "        rel_pos += 1\n",
    "        \n",
    "print('Item which generated the highest revenue is', all_orders[rel_pos], 'with a total value of $', round(max(order_rev_list),2))"
   ]
  },
  {
   "cell_type": "raw",
   "metadata": {
    "collapsed": true
   },
   "source": []
  },
  {
   "cell_type": "code",
   "execution_count": null,
   "metadata": {},
   "outputs": [],
   "source": []
  }
 ],
 "metadata": {
  "anaconda-cloud": {},
  "kernelspec": {
   "display_name": "Python 3",
   "language": "python",
   "name": "python3"
  },
  "language_info": {
   "codemirror_mode": {
    "name": "ipython",
    "version": 3
   },
   "file_extension": ".py",
   "mimetype": "text/x-python",
   "name": "python",
   "nbconvert_exporter": "python",
   "pygments_lexer": "ipython3",
   "version": "3.6.5"
  }
 },
 "nbformat": 4,
 "nbformat_minor": 2
}
