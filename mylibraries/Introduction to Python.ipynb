{
 "cells": [
  {
   "cell_type": "code",
   "execution_count": 44,
   "metadata": {},
   "outputs": [],
   "source": [
    "import pandas as pd\n",
    "import matplotlib as plt\n",
    "import numpy as np\n",
    "from pandas import read_csv"
   ]
  },
  {
   "cell_type": "code",
   "execution_count": 45,
   "metadata": {},
   "outputs": [
    {
     "name": "stdout",
     "output_type": "stream",
     "text": [
      "The libraries are succesfully imported\n"
     ]
    }
   ],
   "source": [
    "print('The libraries are succesfully imported')"
   ]
  },
  {
   "cell_type": "code",
   "execution_count": 46,
   "metadata": {},
   "outputs": [
    {
     "name": "stdout",
     "output_type": "stream",
     "text": [
      "<class 'float'>\n"
     ]
    }
   ],
   "source": [
    "a_number= 2.5\n",
    "print(type(a_number))"
   ]
  },
  {
   "cell_type": "code",
   "execution_count": 47,
   "metadata": {},
   "outputs": [
    {
     "name": "stdout",
     "output_type": "stream",
     "text": [
      "<class 'str'>\n"
     ]
    }
   ],
   "source": [
    "a_word= 'dog'\n",
    "print(type(a_word))"
   ]
  },
  {
   "cell_type": "markdown",
   "metadata": {},
   "source": [
    "# List"
   ]
  },
  {
   "cell_type": "code",
   "execution_count": 48,
   "metadata": {},
   "outputs": [
    {
     "name": "stdout",
     "output_type": "stream",
     "text": [
      "<class 'list'>\n"
     ]
    }
   ],
   "source": [
    "pets= ['dog','cats','fish']\n",
    "print(type(pets))"
   ]
  },
  {
   "cell_type": "code",
   "execution_count": 49,
   "metadata": {},
   "outputs": [
    {
     "name": "stdout",
     "output_type": "stream",
     "text": [
      "dog\n",
      "cats\n",
      "fish\n"
     ]
    }
   ],
   "source": [
    "print(pets[0])\n",
    "print(pets[1])\n",
    "print(pets[2])"
   ]
  },
  {
   "cell_type": "code",
   "execution_count": 50,
   "metadata": {},
   "outputs": [
    {
     "name": "stdout",
     "output_type": "stream",
     "text": [
      "fish\n",
      "cats\n",
      "dog\n"
     ]
    }
   ],
   "source": [
    "print(pets[-1])\n",
    "print(pets[-2])\n",
    "print(pets[-3])"
   ]
  },
  {
   "cell_type": "code",
   "execution_count": 51,
   "metadata": {},
   "outputs": [],
   "source": [
    "pets.append('hedgehog')"
   ]
  },
  {
   "cell_type": "code",
   "execution_count": 52,
   "metadata": {},
   "outputs": [
    {
     "data": {
      "text/plain": [
       "['dog', 'cats', 'fish', 'hedgehog']"
      ]
     },
     "execution_count": 52,
     "metadata": {},
     "output_type": "execute_result"
    }
   ],
   "source": [
    "pets"
   ]
  },
  {
   "cell_type": "code",
   "execution_count": 53,
   "metadata": {},
   "outputs": [],
   "source": [
    "pets.remove('dog')"
   ]
  },
  {
   "cell_type": "code",
   "execution_count": 54,
   "metadata": {},
   "outputs": [],
   "source": [
    "pets.reverse()"
   ]
  },
  {
   "cell_type": "code",
   "execution_count": 55,
   "metadata": {},
   "outputs": [
    {
     "data": {
      "text/plain": [
       "['hedgehog', 'fish', 'cats']"
      ]
     },
     "execution_count": 55,
     "metadata": {},
     "output_type": "execute_result"
    }
   ],
   "source": [
    "pets"
   ]
  },
  {
   "cell_type": "code",
   "execution_count": 56,
   "metadata": {},
   "outputs": [],
   "source": [
    "pets.sort()"
   ]
  },
  {
   "cell_type": "markdown",
   "metadata": {},
   "source": [
    "# Tuples"
   ]
  },
  {
   "cell_type": "code",
   "execution_count": 20,
   "metadata": {},
   "outputs": [
    {
     "name": "stdout",
     "output_type": "stream",
     "text": [
      "<class 'tuple'>\n"
     ]
    }
   ],
   "source": [
    "penny= (60, 75, 'yellow')\n",
    "print(type(penny))"
   ]
  },
  {
   "cell_type": "code",
   "execution_count": 19,
   "metadata": {},
   "outputs": [
    {
     "data": {
      "text/plain": [
       "75"
      ]
     },
     "execution_count": 19,
     "metadata": {},
     "output_type": "execute_result"
    }
   ],
   "source": [
    "penny[1]"
   ]
  },
  {
   "cell_type": "markdown",
   "metadata": {},
   "source": [
    "# Sets"
   ]
  },
  {
   "cell_type": "code",
   "execution_count": 58,
   "metadata": {},
   "outputs": [],
   "source": [
    "store_one= {'bulldog', 'parrot', 'hamster', 'fish'}\n",
    "store_two= {'fish', 'parrot', 'terrier', 'cat'}"
   ]
  },
  {
   "cell_type": "code",
   "execution_count": 59,
   "metadata": {},
   "outputs": [
    {
     "name": "stdout",
     "output_type": "stream",
     "text": [
      "{'parrot', 'fish'}\n"
     ]
    }
   ],
   "source": [
    "print(store_one.intersection(store_two))"
   ]
  },
  {
   "cell_type": "code",
   "execution_count": 60,
   "metadata": {},
   "outputs": [
    {
     "name": "stdout",
     "output_type": "stream",
     "text": [
      "{'cat', 'hamster', 'terrier', 'parrot', 'fish', 'bulldog'}\n"
     ]
    }
   ],
   "source": [
    "print(store_one.union(store_two))"
   ]
  },
  {
   "cell_type": "code",
   "execution_count": 63,
   "metadata": {},
   "outputs": [
    {
     "data": {
      "text/plain": [
       "{'cat', 'fish', 'terrier'}"
      ]
     },
     "execution_count": 63,
     "metadata": {},
     "output_type": "execute_result"
    }
   ],
   "source": [
    "store_three= {'fish', 'fish', 'terrier', 'cat'}  # will display unique element only\n",
    "store_three"
   ]
  },
  {
   "cell_type": "markdown",
   "metadata": {},
   "source": [
    "# Dictionaries"
   ]
  },
  {
   "cell_type": "code",
   "execution_count": 24,
   "metadata": {},
   "outputs": [
    {
     "data": {
      "text/plain": [
       "'yellow'"
      ]
     },
     "execution_count": 24,
     "metadata": {},
     "output_type": "execute_result"
    }
   ],
   "source": [
    "dict_1= {'length':60, 'weight': 75, 'color':'yellow'}\n",
    "dict_1['color']"
   ]
  },
  {
   "cell_type": "markdown",
   "metadata": {},
   "source": [
    "# Markdown"
   ]
  },
  {
   "cell_type": "markdown",
   "metadata": {},
   "source": [
    "# this is a header"
   ]
  },
  {
   "cell_type": "markdown",
   "metadata": {},
   "source": [
    "## this is 2nd header"
   ]
  },
  {
   "cell_type": "markdown",
   "metadata": {},
   "source": [
    "### this is 3rd header"
   ]
  },
  {
   "cell_type": "markdown",
   "metadata": {},
   "source": [
    "** this is bold**"
   ]
  },
  {
   "cell_type": "markdown",
   "metadata": {},
   "source": [
    "*this is italics*"
   ]
  },
  {
   "cell_type": "markdown",
   "metadata": {},
   "source": [
    "*** this is boldtalics ***"
   ]
  },
  {
   "cell_type": "markdown",
   "metadata": {},
   "source": [
    "* this is just a point"
   ]
  },
  {
   "cell_type": "code",
   "execution_count": null,
   "metadata": {},
   "outputs": [],
   "source": []
  },
  {
   "cell_type": "code",
   "execution_count": 28,
   "metadata": {},
   "outputs": [
    {
     "name": "stdout",
     "output_type": "stream",
     "text": [
      "I bought 1 bottle of milk!\n",
      "I bought 12 number of eggs!\n"
     ]
    }
   ],
   "source": [
    "# Buy a bottle of Milk and 12 organic eggs if the store has organic eggs\n",
    "# defining the variables\n",
    "\n",
    "milk = 0\n",
    "eggs = 0\n",
    "store_has_eggs= True\n",
    "\n",
    "milk= milk+1   #milk = +1\n",
    "\n",
    "#checking\n",
    "if store_has_eggs== True:\n",
    "    eggs= eggs+12\n",
    "else:\n",
    "    print('There are no organic eggs!')\n",
    "\n",
    "print('I bought', milk,'bottle of milk!')\n",
    "print('I bought', eggs, 'number of eggs!')"
   ]
  },
  {
   "cell_type": "code",
   "execution_count": 31,
   "metadata": {},
   "outputs": [
    {
     "name": "stdout",
     "output_type": "stream",
     "text": [
      "There are no organic eggs!\n",
      "I bought 1 bottle of milk!\n",
      "I bought 0 number of eggs!\n"
     ]
    }
   ],
   "source": [
    "# Buy a bottle of Milk and 12 organic eggs if the store has organic eggs\n",
    "# defining the variables\n",
    "\n",
    "milk = 0\n",
    "eggs = 0\n",
    "store_has_eggs= False\n",
    "\n",
    "milk= milk+1   #milk += 1\n",
    "\n",
    "#checking\n",
    "if store_has_eggs== True:\n",
    "    eggs= eggs+12\n",
    "else:\n",
    "    print('There are no organic eggs!')\n",
    "\n",
    "print('I bought', milk,'bottle of milk!')\n",
    "print('I bought', eggs, 'number of eggs!')"
   ]
  },
  {
   "cell_type": "markdown",
   "metadata": {},
   "source": [
    "# Loops"
   ]
  },
  {
   "cell_type": "markdown",
   "metadata": {},
   "source": [
    "#### while loop is keep running as long as condition is met\n",
    "#### for loop is to run within a limits"
   ]
  },
  {
   "cell_type": "code",
   "execution_count": 35,
   "metadata": {},
   "outputs": [
    {
     "name": "stdout",
     "output_type": "stream",
     "text": [
      "43\n",
      "38\n",
      "38\n",
      "33\n",
      "33\n",
      "28\n",
      "28\n",
      "23\n",
      "23\n",
      "18\n",
      "18\n",
      "13\n",
      "13\n",
      "8\n",
      "8\n",
      "3\n",
      "3\n",
      "-2\n"
     ]
    }
   ],
   "source": [
    "# while loop\n",
    "\n",
    "number = 43\n",
    "\n",
    "while number> 0:\n",
    "    print(number)\n",
    "    number = number - 5\n",
    "    print(number)"
   ]
  },
  {
   "cell_type": "code",
   "execution_count": 36,
   "metadata": {},
   "outputs": [
    {
     "name": "stdout",
     "output_type": "stream",
     "text": [
      "43\n",
      "38\n",
      "38\n",
      "33\n",
      "33\n",
      "28\n",
      "28\n",
      "23\n",
      "23\n",
      "18\n",
      "18\n",
      "13\n",
      "13\n",
      "8\n",
      "8\n",
      "3\n"
     ]
    }
   ],
   "source": [
    "# while loop\n",
    "\n",
    "number = 43\n",
    "\n",
    "while number> 0+5:\n",
    "    print(number)\n",
    "    number = number - 5\n",
    "    print(number)"
   ]
  },
  {
   "cell_type": "code",
   "execution_count": 41,
   "metadata": {},
   "outputs": [
    {
     "name": "stdout",
     "output_type": "stream",
     "text": [
      "1\n",
      "1 \n",
      "\n",
      "2\n",
      "4 \n",
      "\n",
      "3\n",
      "9 \n",
      "\n",
      "4\n",
      "16 \n",
      "\n",
      "5\n",
      "25 \n",
      "\n",
      "6\n",
      "36 \n",
      "\n",
      "7\n",
      "49 \n",
      "\n",
      "8\n",
      "64 \n",
      "\n",
      "9\n",
      "81 \n",
      "\n",
      "I am out of loop\n"
     ]
    }
   ],
   "source": [
    "# For loop\n",
    "\n",
    "for i in range(1,10):\n",
    "    print(i,)\n",
    "    print(i**2,'\\n')\n",
    "\n",
    "print('I am out of loop')"
   ]
  },
  {
   "cell_type": "code",
   "execution_count": 43,
   "metadata": {},
   "outputs": [
    {
     "name": "stdout",
     "output_type": "stream",
     "text": [
      "GoodMorning\n",
      "I am driving now!\n",
      "TTYL\n"
     ]
    }
   ],
   "source": [
    "# Functions\n",
    "\n",
    "# print, type\n",
    "\n",
    "def say_hello():\n",
    "    print('GoodMorning')\n",
    "    print('I am driving now!')\n",
    "    print('TTYL')\n",
    "\n",
    "say_hello()"
   ]
  },
  {
   "cell_type": "code",
   "execution_count": null,
   "metadata": {},
   "outputs": [],
   "source": []
  }
 ],
 "metadata": {
  "kernelspec": {
   "display_name": "Python 3",
   "language": "python",
   "name": "python3"
  },
  "language_info": {
   "codemirror_mode": {
    "name": "ipython",
    "version": 3
   },
   "file_extension": ".py",
   "mimetype": "text/x-python",
   "name": "python",
   "nbconvert_exporter": "python",
   "pygments_lexer": "ipython3",
   "version": "3.6.5"
  }
 },
 "nbformat": 4,
 "nbformat_minor": 2
}
