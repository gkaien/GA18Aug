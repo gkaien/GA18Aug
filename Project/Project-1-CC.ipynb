{
 "cells": [
  {
   "cell_type": "markdown",
   "metadata": {},
   "source": [
    "<img src=\"http://imgur.com/1ZcRyrc.png\" style=\"float: left; margin: 20px; height: 55px\">\n",
    "\n",
    "# Project 1: Python Coding Exercises\n",
    "\n",
    "_Authors: Joseph Nelson (DC) _\n",
    "\n",
    "---"
   ]
  },
  {
   "cell_type": "markdown",
   "metadata": {},
   "source": [
    "The following code challenges are drawn from common exercises used in technical interviews.\n",
    "\n",
    "Please note that there may be several ways to approach each challenge. If you get stuck, try mapping out your approach in pseudocode first. Finally, while solutions to problems like these may be found online, remember that if you copy/paste code that you can't explain, you'll be missing out on the point of the project. The only way to truly learn a new skill is through practice, trial, and error - we can only help you improve by understanding where you are having trouble."
   ]
  },
  {
   "cell_type": "markdown",
   "metadata": {},
   "source": [
    "### Challenge 1: Largest Palindrome\n",
    "A palindromic number reads the same both ways. For example, 1234321 is a palindrome. The largest palindrome made from the product of two two-digit numbers is 9009 = 91 × 99. Find the largest palindrome made from the product of two three-digit numbers. Afterward, write a brief explanation walking through your code's logic in markdown."
   ]
  },
  {
   "cell_type": "code",
   "execution_count": 674,
   "metadata": {},
   "outputs": [
    {
     "name": "stdout",
     "output_type": "stream",
     "text": [
      "906609\n"
     ]
    }
   ],
   "source": [
    "store_number = []     # to store all products of two three-digit numbers\n",
    "for a in range(100,999):    # set the range of three-digit numbers\n",
    "    for b in range(100,999):\n",
    "        number = a * b        \n",
    "        string = str(number)    # convert number to string to compare the index\n",
    "        if string[:] == string[::-1]:      # check if the string has same forwards and backwards sequence\n",
    "            store_number.append(number)    # only store the numbers if condition above is met\n",
    "print(max(store_number))                   # print the max number from the values store in store_number\n",
    "\n"
   ]
  },
  {
   "cell_type": "markdown",
   "metadata": {},
   "source": [
    "### Challenge 2: Summation of Primes\n",
    "The sum of the primes below 10 is 2 + 3 + 5 + 7 = 17. Find the \n",
    "sum of all the primes below 2,000. Afterward, write a brief explanation walking through your code's logic in markdown."
   ]
  },
  {
   "cell_type": "code",
   "execution_count": 707,
   "metadata": {},
   "outputs": [
    {
     "name": "stdout",
     "output_type": "stream",
     "text": [
      "277050\n"
     ]
    }
   ],
   "source": [
    "def check_prime(num):\n",
    "    if num in range(0,2000):     # set a range from 0 to 2000 for numerator\n",
    "        for i in range(2,num):   # set a range from 2 to max of numerator for denominator\n",
    "            if num % i == 0:     # if the remainder of the division is 0, the numerator is a prime number\n",
    "                return False\n",
    "        else:\n",
    "            return True\n",
    "\n",
    "\n",
    "sum = 0\n",
    "for number in range(2,2000):         \n",
    "    if check_prime(number) == True:  # find out the prime numbers below 2000\n",
    "        sum += number                # sum up all the above prime numbers\n",
    "\n",
    "print(sum)\n",
    "    \n",
    "    "
   ]
  },
  {
   "cell_type": "markdown",
   "metadata": {},
   "source": [
    "### Challenge 3: Multiples of 3 and 5\n",
    "If we list all of the natural numbers below 10 that are multiples of 3 or 5, we get 3, 5, 6, and 9. The sum of these multiples is 23. Find the sum of all the multiples of 3 and 5 below 1,000. Afterward, write a brief explanation walking through your code's logic in markdown."
   ]
  },
  {
   "cell_type": "code",
   "execution_count": 675,
   "metadata": {},
   "outputs": [
    {
     "name": "stdout",
     "output_type": "stream",
     "text": [
      "233168\n"
     ]
    }
   ],
   "source": [
    "def mul_three(num3):\n",
    "    if num3 % 3 == 0:    # set criteria to get multiples of 3\n",
    "        return True\n",
    "    else:\n",
    "        return False\n",
    "    \n",
    "def mul_five(num5):\n",
    "    if num5 % 5 == 0:    # set criteria to get multiples of 5\n",
    "        return True\n",
    "    else:\n",
    "        return False\n",
    "\n",
    "  \n",
    "sum = 0\n",
    "for number in range(0,1000):\n",
    "    if mul_three(number) == True or mul_five(number) == True:   # get multiples of 3 and 5 from range between 0 to 1000\n",
    "        sum += number                # sum up the above numbers\n",
    "\n",
    "print(sum)"
   ]
  },
  {
   "cell_type": "markdown",
   "metadata": {},
   "source": [
    "### Challenge 4: String Compressor\n",
    "Implement a method to perform basic string compression using the counts of repeated characters. (This is called run-length encoding.) For example, the string \"aabcccccaaa\" would become a2b1c5a3. If the “compressed” string would not become smaller than the original string, your method should return the original string. You can assume the string has only uppercase and lowercase letters (a–z). Specify whether your solution is case sensitive or case insensitive and what you would need to change to make it the other. Afterward, write a brief explanation walking through your code's logic in markdown."
   ]
  },
  {
   "cell_type": "code",
   "execution_count": 6,
   "metadata": {},
   "outputs": [
    {
     "name": "stdout",
     "output_type": "stream",
     "text": [
      "a2b1c5a3\n",
      "aabcccccaaa\n"
     ]
    }
   ],
   "source": [
    "def compress(string):\n",
    "\n",
    "    alphanumeric = ''                # alphanumeric starts empty\n",
    "\n",
    "    count = 1                        # character count in alphanumeric starts from 1\n",
    "\n",
    "    alphanumeric += string[0]        # add the first character of string argument into variable 'alphanumeric'\n",
    "\n",
    "    for i in range(0,len(string)-1):    # for loop to check over the characters in the string\n",
    "        if(string[i] == string[i+1]):   # if the current string equal to next word\n",
    "            count+=1                    # character count will increase by 1 from base of 1 \n",
    "        else:                           # if the current character does not equal to the next character\n",
    "            alphanumeric += str(count)  # if next character does not repeat, the count will be locked in \n",
    "            alphanumeric += string[i+1] # alphanumeric will add on with next character in the string\n",
    "            count = 1                   # reset counter to 1 for characters after index 0\n",
    "   \n",
    "    if(count > 0):                       \n",
    "        alphanumeric += str(count)      # all the alphanumeric and the count will be captured here\n",
    "        return alphanumeric                 # store the resulted alphanumeric in the variable 'alphanumeric'\n",
    "\n",
    "string = str.lower(\"aAbcccccaaa\")       # plese remove str.lower() if to make the program insensitive\n",
    "print(compress(string))\n",
    "#print(len(compress(string)))\n",
    "#print(len(string))\n",
    "\n",
    "if len(compress(string)) < len(string):\n",
    "    print(string)\n",
    "else:\n",
    "    print(compress(string))"
   ]
  },
  {
   "cell_type": "markdown",
   "metadata": {},
   "source": [
    "# *BONUS* Challenge: FizzBuzz\n",
    "Write a program that prints all of the numbers from 1 to 100. For multiples of 3, instead of the number, print \"Fizz;\" for multiples of 5, print \"Buzz.\" For numbers that are multiples of both 3 and 5, print \"FizzBuzz.\" Afterward, write a brief explanation walking through your code's logic in markdown."
   ]
  },
  {
   "cell_type": "code",
   "execution_count": 700,
   "metadata": {},
   "outputs": [
    {
     "name": "stdout",
     "output_type": "stream",
     "text": [
      "[1, 2, 3, 4, 5, 6, 7, 8, 9, 10, 11, 12, 13, 14, 15, 16, 17, 18, 19, 20, 21, 22, 23, 24, 25, 26, 27, 28, 29, 30, 31, 32, 33, 34, 35, 36, 37, 38, 39, 40, 41, 42, 43, 44, 45, 46, 47, 48, 49, 50, 51, 52, 53, 54, 55, 56, 57, 58, 59, 60, 61, 62, 63, 64, 65, 66, 67, 68, 69, 70, 71, 72, 73, 74, 75, 76, 77, 78, 79, 80, 81, 82, 83, 84, 85, 86, 87, 88, 89, 90, 91, 92, 93, 94, 95, 96, 97, 98, 99, 100]\n",
      "[1, 2, 'Fizz', 4, 'Buzz', 'Fizz', 7, 8, 'Fizz', 'Buzz', 11, 'Fizz', 13, 14, 'FizzBuzz', 16, 17, 'Fizz', 19, 'Buzz', 'Fizz', 22, 23, 'Fizz', 'Buzz', 26, 'Fizz', 28, 29, 'FizzBuzz', 31, 32, 'Fizz', 34, 'Buzz', 'Fizz', 37, 38, 'Fizz', 'Buzz', 41, 'Fizz', 43, 44, 'FizzBuzz', 46, 47, 'Fizz', 49, 'Buzz', 'Fizz', 52, 53, 'Fizz', 'Buzz', 56, 'Fizz', 58, 59, 'FizzBuzz', 61, 62, 'Fizz', 64, 'Buzz', 'Fizz', 67, 68, 'Fizz', 'Buzz', 71, 'Fizz', 73, 74, 'FizzBuzz', 76, 77, 'Fizz', 79, 'Buzz', 'Fizz', 82, 83, 'Fizz', 'Buzz', 86, 'Fizz', 88, 89, 'FizzBuzz', 91, 92, 'Fizz', 94, 'Buzz', 'Fizz', 97, 98, 'Fizz', 'Buzz']\n"
     ]
    }
   ],
   "source": [
    "def print_num(num):\n",
    "    group = []\n",
    "    for i in range(1,101):       # list out numbers from 1 to 100\n",
    "        group.append(i)\n",
    "    return (group)\n",
    "print(print_num(i))\n",
    "\n",
    "def mul_three(num3):\n",
    "    if num3 % 3 == 0:      # set criteria to get multiple of 3\n",
    "        return True\n",
    "    else:\n",
    "        return False\n",
    "    \n",
    "def mul_five(num5):\n",
    "    if num5 % 5 == 0:       # set criteria to get multiple of 5\n",
    "        return True\n",
    "    else:\n",
    "        return False\n",
    "    \n",
    "def mul_threefive(num35):\n",
    "    if num35 % 3 == 0 and num35 % 5 == 0:     # set criteria to get multiples of 3 and 5\n",
    "        return True\n",
    "    else:\n",
    "        return False\n",
    "\n",
    "def print_alphanumeric(num1):    \n",
    "    group = []                          # set a empty list to store numbers and words from the subsequent codings\n",
    "  \n",
    "    for j in range(1,101):              # set the range of targeted numbers\n",
    "        if mul_threefive(j) == True:    # check if the number is a multiple of 3 and 5\n",
    "            group.append(\"FizzBuzz\")    # replace the number with \"FizzBuzz\" and store in 'group'\n",
    "        elif mul_three(j) == True:      # check if the number is a multiple of 3\n",
    "             group.append(\"Fizz\")       # replace the number with \"Fizz\" and store in 'group'\n",
    "        elif mul_five(j) == True:       # check if the number is a multiple of 5\n",
    "            group.append(\"Buzz\")        # replace the number with \"Buzz\" and store in 'group'\n",
    "        else:\n",
    "            group.append(j)             # all other numbers store in 'group' as it is\n",
    "\n",
    "    return (group)\n",
    "print(print_alphanumeric(j))"
   ]
  },
  {
   "cell_type": "code",
   "execution_count": null,
   "metadata": {},
   "outputs": [],
   "source": []
  },
  {
   "cell_type": "code",
   "execution_count": null,
   "metadata": {},
   "outputs": [],
   "source": []
  },
  {
   "cell_type": "code",
   "execution_count": 697,
   "metadata": {},
   "outputs": [],
   "source": []
  },
  {
   "cell_type": "code",
   "execution_count": 699,
   "metadata": {},
   "outputs": [],
   "source": []
  },
  {
   "cell_type": "code",
   "execution_count": null,
   "metadata": {},
   "outputs": [],
   "source": []
  },
  {
   "cell_type": "code",
   "execution_count": null,
   "metadata": {},
   "outputs": [],
   "source": []
  },
  {
   "cell_type": "code",
   "execution_count": null,
   "metadata": {},
   "outputs": [],
   "source": []
  }
 ],
 "metadata": {
  "anaconda-cloud": {},
  "kernelspec": {
   "display_name": "Python 3",
   "language": "python",
   "name": "python3"
  },
  "language_info": {
   "codemirror_mode": {
    "name": "ipython",
    "version": 3
   },
   "file_extension": ".py",
   "mimetype": "text/x-python",
   "name": "python",
   "nbconvert_exporter": "python",
   "pygments_lexer": "ipython3",
   "version": "3.6.5"
  }
 },
 "nbformat": 4,
 "nbformat_minor": 2
}
